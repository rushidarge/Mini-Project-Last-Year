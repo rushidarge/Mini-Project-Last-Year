{
  "nbformat": 4,
  "nbformat_minor": 0,
  "metadata": {
    "colab": {
      "name": "Deployment clg project",
      "provenance": []
    },
    "kernelspec": {
      "name": "python3",
      "display_name": "Python 3"
    },
    "language_info": {
      "name": "python"
    }
  },
  "cells": [
    {
      "cell_type": "code",
      "metadata": {
        "colab": {
          "base_uri": "https://localhost:8080/"
        },
        "id": "_qIwBfBKfhZL",
        "outputId": "48b9913c-a585-40df-80e4-247153db5d18"
      },
      "source": [
        "!pip install -q streamlit\n",
        "!pip install colab-everything"
      ],
      "execution_count": 1,
      "outputs": [
        {
          "output_type": "stream",
          "text": [
            "\u001b[K     |████████████████████████████████| 8.2MB 6.4MB/s \n",
            "\u001b[K     |████████████████████████████████| 4.2MB 35.7MB/s \n",
            "\u001b[K     |████████████████████████████████| 112kB 44.9MB/s \n",
            "\u001b[K     |████████████████████████████████| 174kB 45.8MB/s \n",
            "\u001b[K     |████████████████████████████████| 92kB 10.5MB/s \n",
            "\u001b[K     |████████████████████████████████| 81kB 10.0MB/s \n",
            "\u001b[K     |████████████████████████████████| 122kB 29.7MB/s \n",
            "\u001b[K     |████████████████████████████████| 71kB 8.5MB/s \n",
            "\u001b[?25h  Building wheel for blinker (setup.py) ... \u001b[?25l\u001b[?25hdone\n",
            "\u001b[31mERROR: google-colab 1.0.0 has requirement ipykernel~=4.10, but you'll have ipykernel 5.5.5 which is incompatible.\u001b[0m\n",
            "Collecting colab-everything\n",
            "  Downloading https://files.pythonhosted.org/packages/da/00/48d2d30ca813f0e2b274431a47ebde08c1774dad7422129627f13a0a1cbb/colab_everything-0.0.9-py3-none-any.whl\n",
            "Collecting urllib3==1.25.10\n",
            "\u001b[?25l  Downloading https://files.pythonhosted.org/packages/9f/f0/a391d1463ebb1b233795cabfc0ef38d3db4442339de68f847026199e69d7/urllib3-1.25.10-py2.py3-none-any.whl (127kB)\n",
            "\u001b[K     |████████████████████████████████| 133kB 5.3MB/s \n",
            "\u001b[?25hCollecting pyngrok\n",
            "\u001b[?25l  Downloading https://files.pythonhosted.org/packages/6b/4e/a2fe095bbe17cf26424c4abcd22a0490e22d01cc628f25af5e220ddbf6f0/pyngrok-5.0.5.tar.gz (745kB)\n",
            "\u001b[K     |████████████████████████████████| 747kB 9.0MB/s \n",
            "\u001b[?25hRequirement already satisfied: PyYAML in /usr/local/lib/python3.7/dist-packages (from pyngrok->colab-everything) (3.13)\n",
            "Building wheels for collected packages: pyngrok\n",
            "  Building wheel for pyngrok (setup.py) ... \u001b[?25l\u001b[?25hdone\n",
            "  Created wheel for pyngrok: filename=pyngrok-5.0.5-cp37-none-any.whl size=19246 sha256=e73bee5e61febedb4fc16e307be3408e06900621c9fb5309293b39c37f2ba983\n",
            "  Stored in directory: /root/.cache/pip/wheels/0c/13/64/5ebbcc22eaf53fdf5766b397c1fb17c83f5775fdccf0ea1b88\n",
            "Successfully built pyngrok\n",
            "\u001b[31mERROR: google-colab 1.0.0 has requirement ipykernel~=4.10, but you'll have ipykernel 5.5.5 which is incompatible.\u001b[0m\n",
            "\u001b[31mERROR: datascience 0.10.6 has requirement folium==0.2.1, but you'll have folium 0.8.3 which is incompatible.\u001b[0m\n",
            "Installing collected packages: urllib3, pyngrok, colab-everything\n",
            "  Found existing installation: urllib3 1.24.3\n",
            "    Uninstalling urllib3-1.24.3:\n",
            "      Successfully uninstalled urllib3-1.24.3\n",
            "Successfully installed colab-everything-0.0.9 pyngrok-5.0.5 urllib3-1.25.10\n"
          ],
          "name": "stdout"
        }
      ]
    },
    {
      "cell_type": "code",
      "metadata": {
        "colab": {
          "base_uri": "https://localhost:8080/"
        },
        "id": "FH4wqqX1fdQF",
        "outputId": "7bb363ae-b42a-4442-b560-ac4870bfd7e0"
      },
      "source": [
        "%%writefile app.py\n",
        "import streamlit as st\n",
        "import cv2\n",
        "import numpy as np\n",
        "import pandas as pd\n",
        "import numpy as np\n",
        "import keras\n",
        "import keras.layers as L\n",
        "import keras.models as M\n",
        "import os\n",
        "from keras.utils import Sequence\n",
        "from keras.models import load_model\n",
        "from PIL import Image\n",
        "from keras.preprocessing import image\n",
        "\n",
        "st.write(\"\"\"\n",
        "         # Handwritten Recognition\n",
        "         \"\"\"\n",
        "         )\n",
        "st.write(\"This is a simple Handwritten Recognition web app to predict your handwritten text\")\n",
        "file = st.file_uploader(\"Please upload an image file\", type=[\"jpg\", \"png\"])\t\n",
        "\n",
        "# load weights into new model\n",
        "model = load_model(\"prediction_model_ocr.h5\",compile=False)\n",
        "# print(\"Loaded model from disk\")\n",
        "train=pd.read_csv('https://raw.githubusercontent.com/rushidarge/Mini-Project-Last-Year/main/Data/written_name_train_v2.csv')\n",
        "\n",
        "characters=set()\n",
        "train['IDENTITY']=train['IDENTITY'].apply(lambda x: str(x))\n",
        "for i in train['IDENTITY'].values:\n",
        "    for j in i :\n",
        "        if j not in characters :\n",
        "            characters.add(j)\n",
        "characters=sorted(characters)\n",
        "\n",
        "# 2 Dictionaries  :   Turn all ur characters to num and vice versa\n",
        "char_to_label = {char:label for label,char in enumerate(characters)}\n",
        "label_to_char = {label:char for label,char in enumerate(characters)}\n",
        "\n",
        "# A utility to decode the output of the network\n",
        "def decode_batch_predictions(pred):\n",
        "    pred = pred[:, :-2]\n",
        "    input_len = np.ones(pred.shape[0])*pred.shape[1]\n",
        "    \n",
        "    # Use greedy search. For complex tasks, you can use beam search\n",
        "    results = keras.backend.ctc_decode(pred, \n",
        "                                        input_length=input_len,\n",
        "                                        greedy=True)[0][0]\n",
        "    \n",
        "    # Iterate over the results and get back the text\n",
        "    output_text = []\n",
        "    for res in results.numpy():\n",
        "        outstr = ''\n",
        "        for c in res:\n",
        "            if c < len(characters) and c >=0:\n",
        "                outstr += label_to_char[c]\n",
        "        output_text.append(outstr)\n",
        "    \n",
        "    # return final text results\n",
        "    return output_text\n",
        "\n",
        "def model_predict(img,model):\n",
        "    # batch_images=np.ones((128,256,64,1),dtype=np.float32)\n",
        "    img=cv2.imread(img)\n",
        "    img=cv2.cvtColor(img, cv2.COLOR_BGR2GRAY)\n",
        "    img=cv2.resize(img,(256,64))\n",
        "    img=(img/255).astype(np.float32)\n",
        "    img=img.T\n",
        "    img=np.expand_dims(img,axis=-1)\n",
        "    a = model.predict(img.reshape(1, 256, 64, 1))\n",
        "    pred_texts = decode_batch_predictions(a)\n",
        "    # pred_texts = pred_texts[0]    \n",
        "    return pred_texts[0]\n",
        "\n",
        "if file is None:\n",
        "    st.text(\"Please upload an image file\")\n",
        "else:\n",
        "    image = Image.open(file)\n",
        "    st.image(image, use_column_width=True)\n",
        "    img_array = np.array(image)\n",
        "    cv2.imwrite('out.jpg', cv2.cvtColor(img_array, cv2.COLOR_RGB2BGR))\n",
        "    prediction = model_predict('out.jpg', model)\n",
        "    st.write(prediction)"
      ],
      "execution_count": 2,
      "outputs": [
        {
          "output_type": "stream",
          "text": [
            "Writing app.py\n"
          ],
          "name": "stdout"
        }
      ]
    },
    {
      "cell_type": "code",
      "metadata": {
        "colab": {
          "base_uri": "https://localhost:8080/"
        },
        "id": "Y00zTm9aKdOO",
        "outputId": "8dddd8a4-dbc6-46bc-98cb-b6156ea4845b"
      },
      "source": [
        "from colab_everything import ColabStreamlit\n",
        "ColabStreamlit('/content/app.py')"
      ],
      "execution_count": null,
      "outputs": [
        {
          "output_type": "stream",
          "text": [
            "Web App can be accessed on: http://4de77e47a82b.ngrok.io\n",
            "\n",
            "  You can now view your Streamlit app in your browser.\n",
            "\n",
            "  Network URL: http://172.28.0.2:9999\n",
            "  External URL: http://34.73.252.180:9999\n",
            "\n"
          ],
          "name": "stdout"
        }
      ]
    }
  ]
}