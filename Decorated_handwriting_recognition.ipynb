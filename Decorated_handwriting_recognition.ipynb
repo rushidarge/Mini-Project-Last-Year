{
  "nbformat": 4,
  "nbformat_minor": 0,
  "metadata": {
    "kernelspec": {
      "language": "python",
      "display_name": "Python 3",
      "name": "python3"
    },
    "language_info": {
      "name": "python",
      "version": "3.7.9",
      "mimetype": "text/x-python",
      "codemirror_mode": {
        "name": "ipython",
        "version": 3
      },
      "pygments_lexer": "ipython3",
      "nbconvert_exporter": "python",
      "file_extension": ".py"
    },
    "colab": {
      "name": "Decorated_handwriting_recognition",
      "provenance": [],
      "collapsed_sections": []
    }
  },
  "cells": [
    {
      "cell_type": "markdown",
      "metadata": {
        "id": "-fDUaRHXX5Jv"
      },
      "source": [
        "# Importing Libraries "
      ]
    },
    {
      "cell_type": "code",
      "metadata": {
        "_uuid": "8f2839f25d086af736a60e9eeb907d3b93b6e0e5",
        "_cell_guid": "b1076dfc-b9ad-4769-8c92-a6c4dae69d19",
        "trusted": true,
        "id": "j2VyeHmTX5J7"
      },
      "source": [
        "import pandas as pd\n",
        "import numpy as np\n",
        "import keras\n",
        "import keras.layers as L\n",
        "import keras.models as M\n",
        "import tensorflow as tf\n",
        "from PIL import Image\n",
        "import os\n",
        "import matplotlib.pyplot as plt\n",
        "import cv2\n",
        "from path import Path\n",
        "from keras.utils import Sequence"
      ],
      "execution_count": null,
      "outputs": []
    },
    {
      "cell_type": "markdown",
      "metadata": {
        "id": "NGus99gIX5J9"
      },
      "source": [
        "# Loading CSV"
      ]
    },
    {
      "cell_type": "code",
      "metadata": {
        "trusted": true,
        "id": "8KzlQ8KaX5J9"
      },
      "source": [
        "train=pd.read_csv('../input/handwriting-recognition/written_name_train_v2.csv')\n",
        "validation=pd.read_csv('../input/handwriting-recognition/written_name_validation_v2.csv')"
      ],
      "execution_count": null,
      "outputs": []
    },
    {
      "cell_type": "markdown",
      "metadata": {
        "id": "eRNF--fGX5J-"
      },
      "source": [
        "# EDA"
      ]
    },
    {
      "cell_type": "code",
      "metadata": {
        "trusted": true,
        "id": "ZIXCfcw0X5J_",
        "outputId": "494c66e4-a292-4c54-c7b9-f51eb4a2e9b8"
      },
      "source": [
        "train.shape, validation.shape"
      ],
      "execution_count": null,
      "outputs": [
        {
          "output_type": "execute_result",
          "data": {
            "text/plain": [
              "((330961, 2), (41370, 2))"
            ]
          },
          "metadata": {
            "tags": []
          },
          "execution_count": 29
        }
      ]
    },
    {
      "cell_type": "code",
      "metadata": {
        "trusted": true,
        "id": "yoBt2AoxX5KA",
        "outputId": "25f22ab7-6b44-4923-fe8e-c15b4c6c5a72"
      },
      "source": [
        "train.isnull().sum()"
      ],
      "execution_count": null,
      "outputs": [
        {
          "output_type": "execute_result",
          "data": {
            "text/plain": [
              "FILENAME      0\n",
              "IDENTITY    565\n",
              "dtype: int64"
            ]
          },
          "metadata": {
            "tags": []
          },
          "execution_count": 30
        }
      ]
    },
    {
      "cell_type": "code",
      "metadata": {
        "trusted": true,
        "id": "rnM0K92KX5KB",
        "outputId": "6d5f87f9-a924-41e8-c9d0-f71d53349a7b"
      },
      "source": [
        "validation.isnull().sum()"
      ],
      "execution_count": null,
      "outputs": [
        {
          "output_type": "execute_result",
          "data": {
            "text/plain": [
              "FILENAME    0\n",
              "IDENTITY    2\n",
              "dtype: int64"
            ]
          },
          "metadata": {
            "tags": []
          },
          "execution_count": 87
        }
      ]
    },
    {
      "cell_type": "code",
      "metadata": {
        "trusted": true,
        "id": "j-47KmXPX5KB"
      },
      "source": [
        "train.dropna(inplace=True)\n",
        "validation.dropna(inplace=True)"
      ],
      "execution_count": null,
      "outputs": []
    },
    {
      "cell_type": "code",
      "metadata": {
        "trusted": true,
        "id": "R6otkCHBX5KC",
        "outputId": "ed94b41e-00ac-4a71-df35-558efa558b36"
      },
      "source": [
        "train.shape"
      ],
      "execution_count": null,
      "outputs": [
        {
          "output_type": "execute_result",
          "data": {
            "text/plain": [
              "(330396, 2)"
            ]
          },
          "metadata": {
            "tags": []
          },
          "execution_count": 32
        }
      ]
    },
    {
      "cell_type": "code",
      "metadata": {
        "trusted": true,
        "id": "-RwwqYtoX5KC",
        "outputId": "b79f7249-4114-47ce-8b10-d65c45c1f3ab"
      },
      "source": [
        "train.head()"
      ],
      "execution_count": null,
      "outputs": [
        {
          "output_type": "execute_result",
          "data": {
            "text/plain": [
              "          FILENAME   IDENTITY\n",
              "0  TRAIN_00001.jpg  BALTHAZAR\n",
              "1  TRAIN_00002.jpg      SIMON\n",
              "2  TRAIN_00003.jpg      BENES\n",
              "3  TRAIN_00004.jpg    LA LOVE\n",
              "4  TRAIN_00005.jpg     DAPHNE"
            ],
            "text/html": [
              "<div>\n",
              "<style scoped>\n",
              "    .dataframe tbody tr th:only-of-type {\n",
              "        vertical-align: middle;\n",
              "    }\n",
              "\n",
              "    .dataframe tbody tr th {\n",
              "        vertical-align: top;\n",
              "    }\n",
              "\n",
              "    .dataframe thead th {\n",
              "        text-align: right;\n",
              "    }\n",
              "</style>\n",
              "<table border=\"1\" class=\"dataframe\">\n",
              "  <thead>\n",
              "    <tr style=\"text-align: right;\">\n",
              "      <th></th>\n",
              "      <th>FILENAME</th>\n",
              "      <th>IDENTITY</th>\n",
              "    </tr>\n",
              "  </thead>\n",
              "  <tbody>\n",
              "    <tr>\n",
              "      <th>0</th>\n",
              "      <td>TRAIN_00001.jpg</td>\n",
              "      <td>BALTHAZAR</td>\n",
              "    </tr>\n",
              "    <tr>\n",
              "      <th>1</th>\n",
              "      <td>TRAIN_00002.jpg</td>\n",
              "      <td>SIMON</td>\n",
              "    </tr>\n",
              "    <tr>\n",
              "      <th>2</th>\n",
              "      <td>TRAIN_00003.jpg</td>\n",
              "      <td>BENES</td>\n",
              "    </tr>\n",
              "    <tr>\n",
              "      <th>3</th>\n",
              "      <td>TRAIN_00004.jpg</td>\n",
              "      <td>LA LOVE</td>\n",
              "    </tr>\n",
              "    <tr>\n",
              "      <th>4</th>\n",
              "      <td>TRAIN_00005.jpg</td>\n",
              "      <td>DAPHNE</td>\n",
              "    </tr>\n",
              "  </tbody>\n",
              "</table>\n",
              "</div>"
            ]
          },
          "metadata": {
            "tags": []
          },
          "execution_count": 5
        }
      ]
    },
    {
      "cell_type": "code",
      "metadata": {
        "trusted": true,
        "id": "E_-hBJAWX5KD",
        "outputId": "3d417881-32aa-479b-93c7-b9ee224f0a91"
      },
      "source": [
        "train.describe()"
      ],
      "execution_count": null,
      "outputs": [
        {
          "output_type": "execute_result",
          "data": {
            "text/plain": [
              "                FILENAME IDENTITY\n",
              "count             330396   330396\n",
              "unique            330396   100539\n",
              "top     TRAIN_159843.jpg   THOMAS\n",
              "freq                   1     1825"
            ],
            "text/html": [
              "<div>\n",
              "<style scoped>\n",
              "    .dataframe tbody tr th:only-of-type {\n",
              "        vertical-align: middle;\n",
              "    }\n",
              "\n",
              "    .dataframe tbody tr th {\n",
              "        vertical-align: top;\n",
              "    }\n",
              "\n",
              "    .dataframe thead th {\n",
              "        text-align: right;\n",
              "    }\n",
              "</style>\n",
              "<table border=\"1\" class=\"dataframe\">\n",
              "  <thead>\n",
              "    <tr style=\"text-align: right;\">\n",
              "      <th></th>\n",
              "      <th>FILENAME</th>\n",
              "      <th>IDENTITY</th>\n",
              "    </tr>\n",
              "  </thead>\n",
              "  <tbody>\n",
              "    <tr>\n",
              "      <th>count</th>\n",
              "      <td>330396</td>\n",
              "      <td>330396</td>\n",
              "    </tr>\n",
              "    <tr>\n",
              "      <th>unique</th>\n",
              "      <td>330396</td>\n",
              "      <td>100539</td>\n",
              "    </tr>\n",
              "    <tr>\n",
              "      <th>top</th>\n",
              "      <td>TRAIN_159843.jpg</td>\n",
              "      <td>THOMAS</td>\n",
              "    </tr>\n",
              "    <tr>\n",
              "      <th>freq</th>\n",
              "      <td>1</td>\n",
              "      <td>1825</td>\n",
              "    </tr>\n",
              "  </tbody>\n",
              "</table>\n",
              "</div>"
            ]
          },
          "metadata": {
            "tags": []
          },
          "execution_count": 9
        }
      ]
    },
    {
      "cell_type": "code",
      "metadata": {
        "trusted": true,
        "id": "ILqPshySX5KE",
        "outputId": "c50d8abb-63cf-46e3-82af-24f6dddb5843"
      },
      "source": [
        "train[train['IDENTITY']=='THOMAS']"
      ],
      "execution_count": null,
      "outputs": [
        {
          "output_type": "execute_result",
          "data": {
            "text/plain": [
              "                FILENAME IDENTITY\n",
              "26       TRAIN_00027.jpg   THOMAS\n",
              "84       TRAIN_00085.jpg   THOMAS\n",
              "166      TRAIN_00167.jpg   THOMAS\n",
              "250      TRAIN_00251.jpg   THOMAS\n",
              "898      TRAIN_00899.jpg   THOMAS\n",
              "...                  ...      ...\n",
              "330252  TRAIN_330253.jpg   THOMAS\n",
              "330456  TRAIN_330457.jpg   THOMAS\n",
              "330744  TRAIN_330745.jpg   THOMAS\n",
              "330902  TRAIN_330903.jpg   THOMAS\n",
              "330914  TRAIN_330915.jpg   THOMAS\n",
              "\n",
              "[1825 rows x 2 columns]"
            ],
            "text/html": [
              "<div>\n",
              "<style scoped>\n",
              "    .dataframe tbody tr th:only-of-type {\n",
              "        vertical-align: middle;\n",
              "    }\n",
              "\n",
              "    .dataframe tbody tr th {\n",
              "        vertical-align: top;\n",
              "    }\n",
              "\n",
              "    .dataframe thead th {\n",
              "        text-align: right;\n",
              "    }\n",
              "</style>\n",
              "<table border=\"1\" class=\"dataframe\">\n",
              "  <thead>\n",
              "    <tr style=\"text-align: right;\">\n",
              "      <th></th>\n",
              "      <th>FILENAME</th>\n",
              "      <th>IDENTITY</th>\n",
              "    </tr>\n",
              "  </thead>\n",
              "  <tbody>\n",
              "    <tr>\n",
              "      <th>26</th>\n",
              "      <td>TRAIN_00027.jpg</td>\n",
              "      <td>THOMAS</td>\n",
              "    </tr>\n",
              "    <tr>\n",
              "      <th>84</th>\n",
              "      <td>TRAIN_00085.jpg</td>\n",
              "      <td>THOMAS</td>\n",
              "    </tr>\n",
              "    <tr>\n",
              "      <th>166</th>\n",
              "      <td>TRAIN_00167.jpg</td>\n",
              "      <td>THOMAS</td>\n",
              "    </tr>\n",
              "    <tr>\n",
              "      <th>250</th>\n",
              "      <td>TRAIN_00251.jpg</td>\n",
              "      <td>THOMAS</td>\n",
              "    </tr>\n",
              "    <tr>\n",
              "      <th>898</th>\n",
              "      <td>TRAIN_00899.jpg</td>\n",
              "      <td>THOMAS</td>\n",
              "    </tr>\n",
              "    <tr>\n",
              "      <th>...</th>\n",
              "      <td>...</td>\n",
              "      <td>...</td>\n",
              "    </tr>\n",
              "    <tr>\n",
              "      <th>330252</th>\n",
              "      <td>TRAIN_330253.jpg</td>\n",
              "      <td>THOMAS</td>\n",
              "    </tr>\n",
              "    <tr>\n",
              "      <th>330456</th>\n",
              "      <td>TRAIN_330457.jpg</td>\n",
              "      <td>THOMAS</td>\n",
              "    </tr>\n",
              "    <tr>\n",
              "      <th>330744</th>\n",
              "      <td>TRAIN_330745.jpg</td>\n",
              "      <td>THOMAS</td>\n",
              "    </tr>\n",
              "    <tr>\n",
              "      <th>330902</th>\n",
              "      <td>TRAIN_330903.jpg</td>\n",
              "      <td>THOMAS</td>\n",
              "    </tr>\n",
              "    <tr>\n",
              "      <th>330914</th>\n",
              "      <td>TRAIN_330915.jpg</td>\n",
              "      <td>THOMAS</td>\n",
              "    </tr>\n",
              "  </tbody>\n",
              "</table>\n",
              "<p>1825 rows × 2 columns</p>\n",
              "</div>"
            ]
          },
          "metadata": {
            "tags": []
          },
          "execution_count": 12
        }
      ]
    },
    {
      "cell_type": "code",
      "metadata": {
        "trusted": true,
        "id": "IyUdIYv-X5KE",
        "outputId": "49e5d407-5aff-41c8-928c-ced390717737"
      },
      "source": [
        "train[train['IDENTITY'].duplicated()]"
      ],
      "execution_count": null,
      "outputs": [
        {
          "output_type": "execute_result",
          "data": {
            "text/plain": [
              "                FILENAME  IDENTITY\n",
              "37       TRAIN_00038.jpg   PAULINE\n",
              "54       TRAIN_00055.jpg    MATHEO\n",
              "75       TRAIN_00076.jpg     ELISA\n",
              "77       TRAIN_00078.jpg     MAEVA\n",
              "84       TRAIN_00085.jpg    THOMAS\n",
              "...                  ...       ...\n",
              "330955  TRAIN_330956.jpg  CORENTIN\n",
              "330956  TRAIN_330957.jpg     LENNY\n",
              "330957  TRAIN_330958.jpg   TIFFANY\n",
              "330959  TRAIN_330960.jpg    MOURAD\n",
              "330960  TRAIN_330961.jpg   HELOISE\n",
              "\n",
              "[229857 rows x 2 columns]"
            ],
            "text/html": [
              "<div>\n",
              "<style scoped>\n",
              "    .dataframe tbody tr th:only-of-type {\n",
              "        vertical-align: middle;\n",
              "    }\n",
              "\n",
              "    .dataframe tbody tr th {\n",
              "        vertical-align: top;\n",
              "    }\n",
              "\n",
              "    .dataframe thead th {\n",
              "        text-align: right;\n",
              "    }\n",
              "</style>\n",
              "<table border=\"1\" class=\"dataframe\">\n",
              "  <thead>\n",
              "    <tr style=\"text-align: right;\">\n",
              "      <th></th>\n",
              "      <th>FILENAME</th>\n",
              "      <th>IDENTITY</th>\n",
              "    </tr>\n",
              "  </thead>\n",
              "  <tbody>\n",
              "    <tr>\n",
              "      <th>37</th>\n",
              "      <td>TRAIN_00038.jpg</td>\n",
              "      <td>PAULINE</td>\n",
              "    </tr>\n",
              "    <tr>\n",
              "      <th>54</th>\n",
              "      <td>TRAIN_00055.jpg</td>\n",
              "      <td>MATHEO</td>\n",
              "    </tr>\n",
              "    <tr>\n",
              "      <th>75</th>\n",
              "      <td>TRAIN_00076.jpg</td>\n",
              "      <td>ELISA</td>\n",
              "    </tr>\n",
              "    <tr>\n",
              "      <th>77</th>\n",
              "      <td>TRAIN_00078.jpg</td>\n",
              "      <td>MAEVA</td>\n",
              "    </tr>\n",
              "    <tr>\n",
              "      <th>84</th>\n",
              "      <td>TRAIN_00085.jpg</td>\n",
              "      <td>THOMAS</td>\n",
              "    </tr>\n",
              "    <tr>\n",
              "      <th>...</th>\n",
              "      <td>...</td>\n",
              "      <td>...</td>\n",
              "    </tr>\n",
              "    <tr>\n",
              "      <th>330955</th>\n",
              "      <td>TRAIN_330956.jpg</td>\n",
              "      <td>CORENTIN</td>\n",
              "    </tr>\n",
              "    <tr>\n",
              "      <th>330956</th>\n",
              "      <td>TRAIN_330957.jpg</td>\n",
              "      <td>LENNY</td>\n",
              "    </tr>\n",
              "    <tr>\n",
              "      <th>330957</th>\n",
              "      <td>TRAIN_330958.jpg</td>\n",
              "      <td>TIFFANY</td>\n",
              "    </tr>\n",
              "    <tr>\n",
              "      <th>330959</th>\n",
              "      <td>TRAIN_330960.jpg</td>\n",
              "      <td>MOURAD</td>\n",
              "    </tr>\n",
              "    <tr>\n",
              "      <th>330960</th>\n",
              "      <td>TRAIN_330961.jpg</td>\n",
              "      <td>HELOISE</td>\n",
              "    </tr>\n",
              "  </tbody>\n",
              "</table>\n",
              "<p>229857 rows × 2 columns</p>\n",
              "</div>"
            ]
          },
          "metadata": {
            "tags": []
          },
          "execution_count": 14
        }
      ]
    },
    {
      "cell_type": "code",
      "metadata": {
        "trusted": true,
        "id": "Nkh9setnX5KF",
        "outputId": "c7e82055-46cf-40a3-d593-7da590263170"
      },
      "source": [
        "train[train['IDENTITY']=='PAULINE']"
      ],
      "execution_count": null,
      "outputs": [
        {
          "output_type": "execute_result",
          "data": {
            "text/plain": [
              "                FILENAME IDENTITY\n",
              "16       TRAIN_00017.jpg  PAULINE\n",
              "37       TRAIN_00038.jpg  PAULINE\n",
              "604      TRAIN_00605.jpg  PAULINE\n",
              "613      TRAIN_00614.jpg  PAULINE\n",
              "776      TRAIN_00777.jpg  PAULINE\n",
              "...                  ...      ...\n",
              "329067  TRAIN_329068.jpg  PAULINE\n",
              "329328  TRAIN_329329.jpg  PAULINE\n",
              "329641  TRAIN_329642.jpg  PAULINE\n",
              "330240  TRAIN_330241.jpg  PAULINE\n",
              "330894  TRAIN_330895.jpg  PAULINE\n",
              "\n",
              "[748 rows x 2 columns]"
            ],
            "text/html": [
              "<div>\n",
              "<style scoped>\n",
              "    .dataframe tbody tr th:only-of-type {\n",
              "        vertical-align: middle;\n",
              "    }\n",
              "\n",
              "    .dataframe tbody tr th {\n",
              "        vertical-align: top;\n",
              "    }\n",
              "\n",
              "    .dataframe thead th {\n",
              "        text-align: right;\n",
              "    }\n",
              "</style>\n",
              "<table border=\"1\" class=\"dataframe\">\n",
              "  <thead>\n",
              "    <tr style=\"text-align: right;\">\n",
              "      <th></th>\n",
              "      <th>FILENAME</th>\n",
              "      <th>IDENTITY</th>\n",
              "    </tr>\n",
              "  </thead>\n",
              "  <tbody>\n",
              "    <tr>\n",
              "      <th>16</th>\n",
              "      <td>TRAIN_00017.jpg</td>\n",
              "      <td>PAULINE</td>\n",
              "    </tr>\n",
              "    <tr>\n",
              "      <th>37</th>\n",
              "      <td>TRAIN_00038.jpg</td>\n",
              "      <td>PAULINE</td>\n",
              "    </tr>\n",
              "    <tr>\n",
              "      <th>604</th>\n",
              "      <td>TRAIN_00605.jpg</td>\n",
              "      <td>PAULINE</td>\n",
              "    </tr>\n",
              "    <tr>\n",
              "      <th>613</th>\n",
              "      <td>TRAIN_00614.jpg</td>\n",
              "      <td>PAULINE</td>\n",
              "    </tr>\n",
              "    <tr>\n",
              "      <th>776</th>\n",
              "      <td>TRAIN_00777.jpg</td>\n",
              "      <td>PAULINE</td>\n",
              "    </tr>\n",
              "    <tr>\n",
              "      <th>...</th>\n",
              "      <td>...</td>\n",
              "      <td>...</td>\n",
              "    </tr>\n",
              "    <tr>\n",
              "      <th>329067</th>\n",
              "      <td>TRAIN_329068.jpg</td>\n",
              "      <td>PAULINE</td>\n",
              "    </tr>\n",
              "    <tr>\n",
              "      <th>329328</th>\n",
              "      <td>TRAIN_329329.jpg</td>\n",
              "      <td>PAULINE</td>\n",
              "    </tr>\n",
              "    <tr>\n",
              "      <th>329641</th>\n",
              "      <td>TRAIN_329642.jpg</td>\n",
              "      <td>PAULINE</td>\n",
              "    </tr>\n",
              "    <tr>\n",
              "      <th>330240</th>\n",
              "      <td>TRAIN_330241.jpg</td>\n",
              "      <td>PAULINE</td>\n",
              "    </tr>\n",
              "    <tr>\n",
              "      <th>330894</th>\n",
              "      <td>TRAIN_330895.jpg</td>\n",
              "      <td>PAULINE</td>\n",
              "    </tr>\n",
              "  </tbody>\n",
              "</table>\n",
              "<p>748 rows × 2 columns</p>\n",
              "</div>"
            ]
          },
          "metadata": {
            "tags": []
          },
          "execution_count": 15
        }
      ]
    },
    {
      "cell_type": "markdown",
      "metadata": {
        "id": "4ybMkOEgX5KF"
      },
      "source": [
        "# Preprocessing"
      ]
    },
    {
      "cell_type": "code",
      "metadata": {
        "trusted": true,
        "id": "9fIy2WoPX5KF",
        "outputId": "6a4b7053-b505-4511-e250-344dfe04246c"
      },
      "source": [
        "train['Length']=train['IDENTITY'].apply(lambda x : len(str(x)))\n",
        "train=train[train['Length']<=21]\n",
        "train['IDENTITY']=train['IDENTITY'].str.upper()\n",
        "train[train['Length']==max(train['Length'])]"
      ],
      "execution_count": null,
      "outputs": [
        {
          "output_type": "execute_result",
          "data": {
            "text/plain": [
              "                FILENAME               IDENTITY  Length\n",
              "10278    TRAIN_10279.jpg  DOSSANTOS LASCONCELOS      21\n",
              "108567  TRAIN_108568.jpg  O ZUARRDI EREBEVITRAC      21\n",
              "156500  TRAIN_156501.jpg  ANDRIANNARISOA--DEGHI      21\n",
              "160575  TRAIN_160576.jpg  LOUISIANE - EVANGELIN      21\n",
              "174121  TRAIN_174122.jpg  GU ILLOSSOO - OARRIBA      21\n",
              "212583  TRAIN_212584.jpg  DE MALEZIEUX DU HAMEL      21\n",
              "220135  TRAIN_220136.jpg  COSTREL DE CORAINVILL      21\n",
              "229529  TRAIN_229530.jpg  ROUSSEAV -- CHAUDIERE      21\n",
              "230011  TRAIN_230012.jpg  BEKNARD DE LAVERNETTE      21\n",
              "308769  TRAIN_308770.jpg  DATE NAISSANCE CLASSE      21\n",
              "325215  TRAIN_325216.jpg  BEHARY - LAUL - SIRDE      21"
            ],
            "text/html": [
              "<div>\n",
              "<style scoped>\n",
              "    .dataframe tbody tr th:only-of-type {\n",
              "        vertical-align: middle;\n",
              "    }\n",
              "\n",
              "    .dataframe tbody tr th {\n",
              "        vertical-align: top;\n",
              "    }\n",
              "\n",
              "    .dataframe thead th {\n",
              "        text-align: right;\n",
              "    }\n",
              "</style>\n",
              "<table border=\"1\" class=\"dataframe\">\n",
              "  <thead>\n",
              "    <tr style=\"text-align: right;\">\n",
              "      <th></th>\n",
              "      <th>FILENAME</th>\n",
              "      <th>IDENTITY</th>\n",
              "      <th>Length</th>\n",
              "    </tr>\n",
              "  </thead>\n",
              "  <tbody>\n",
              "    <tr>\n",
              "      <th>10278</th>\n",
              "      <td>TRAIN_10279.jpg</td>\n",
              "      <td>DOSSANTOS LASCONCELOS</td>\n",
              "      <td>21</td>\n",
              "    </tr>\n",
              "    <tr>\n",
              "      <th>108567</th>\n",
              "      <td>TRAIN_108568.jpg</td>\n",
              "      <td>O ZUARRDI EREBEVITRAC</td>\n",
              "      <td>21</td>\n",
              "    </tr>\n",
              "    <tr>\n",
              "      <th>156500</th>\n",
              "      <td>TRAIN_156501.jpg</td>\n",
              "      <td>ANDRIANNARISOA--DEGHI</td>\n",
              "      <td>21</td>\n",
              "    </tr>\n",
              "    <tr>\n",
              "      <th>160575</th>\n",
              "      <td>TRAIN_160576.jpg</td>\n",
              "      <td>LOUISIANE - EVANGELIN</td>\n",
              "      <td>21</td>\n",
              "    </tr>\n",
              "    <tr>\n",
              "      <th>174121</th>\n",
              "      <td>TRAIN_174122.jpg</td>\n",
              "      <td>GU ILLOSSOO - OARRIBA</td>\n",
              "      <td>21</td>\n",
              "    </tr>\n",
              "    <tr>\n",
              "      <th>212583</th>\n",
              "      <td>TRAIN_212584.jpg</td>\n",
              "      <td>DE MALEZIEUX DU HAMEL</td>\n",
              "      <td>21</td>\n",
              "    </tr>\n",
              "    <tr>\n",
              "      <th>220135</th>\n",
              "      <td>TRAIN_220136.jpg</td>\n",
              "      <td>COSTREL DE CORAINVILL</td>\n",
              "      <td>21</td>\n",
              "    </tr>\n",
              "    <tr>\n",
              "      <th>229529</th>\n",
              "      <td>TRAIN_229530.jpg</td>\n",
              "      <td>ROUSSEAV -- CHAUDIERE</td>\n",
              "      <td>21</td>\n",
              "    </tr>\n",
              "    <tr>\n",
              "      <th>230011</th>\n",
              "      <td>TRAIN_230012.jpg</td>\n",
              "      <td>BEKNARD DE LAVERNETTE</td>\n",
              "      <td>21</td>\n",
              "    </tr>\n",
              "    <tr>\n",
              "      <th>308769</th>\n",
              "      <td>TRAIN_308770.jpg</td>\n",
              "      <td>DATE NAISSANCE CLASSE</td>\n",
              "      <td>21</td>\n",
              "    </tr>\n",
              "    <tr>\n",
              "      <th>325215</th>\n",
              "      <td>TRAIN_325216.jpg</td>\n",
              "      <td>BEHARY - LAUL - SIRDE</td>\n",
              "      <td>21</td>\n",
              "    </tr>\n",
              "  </tbody>\n",
              "</table>\n",
              "</div>"
            ]
          },
          "metadata": {
            "tags": []
          },
          "execution_count": 33
        }
      ]
    },
    {
      "cell_type": "code",
      "metadata": {
        "trusted": true,
        "id": "vtbn7ffQX5KG"
      },
      "source": [
        "train=train.sample(frac=0.8,random_state=42)\n",
        "validation=validation.sample(frac=0.1)"
      ],
      "execution_count": null,
      "outputs": []
    },
    {
      "cell_type": "code",
      "metadata": {
        "trusted": true,
        "id": "kBmQlH6xX5KG",
        "outputId": "f6bc910d-2afb-4bf5-8128-cc76cb54d16a"
      },
      "source": [
        "train.shape, validation.shape"
      ],
      "execution_count": null,
      "outputs": [
        {
          "output_type": "execute_result",
          "data": {
            "text/plain": [
              "((211448, 3), (414, 2))"
            ]
          },
          "metadata": {
            "tags": []
          },
          "execution_count": 37
        }
      ]
    },
    {
      "cell_type": "markdown",
      "metadata": {
        "id": "B4-FHv14X5KH"
      },
      "source": [
        "# Collencting all Characters present in dataset"
      ]
    },
    {
      "cell_type": "code",
      "metadata": {
        "trusted": true,
        "id": "Ifm5pvaVX5KH"
      },
      "source": [
        "characters=set()\n",
        "train['IDENTITY']=train['IDENTITY'].apply(lambda x: str(x))\n",
        "for i in train['IDENTITY'].values:\n",
        "    for j in i :\n",
        "        if j not in characters :\n",
        "            characters.add(j)\n",
        "characters=sorted(characters)"
      ],
      "execution_count": null,
      "outputs": []
    },
    {
      "cell_type": "code",
      "metadata": {
        "trusted": true,
        "id": "W3KVogpBX5KI",
        "outputId": "2f9bd356-a615-4210-a3d1-0bb1ffb81367"
      },
      "source": [
        "characters"
      ],
      "execution_count": null,
      "outputs": [
        {
          "output_type": "execute_result",
          "data": {
            "text/plain": [
              "[' ',\n",
              " \"'\",\n",
              " '-',\n",
              " 'A',\n",
              " 'B',\n",
              " 'C',\n",
              " 'D',\n",
              " 'E',\n",
              " 'F',\n",
              " 'G',\n",
              " 'H',\n",
              " 'I',\n",
              " 'J',\n",
              " 'K',\n",
              " 'L',\n",
              " 'M',\n",
              " 'N',\n",
              " 'O',\n",
              " 'P',\n",
              " 'Q',\n",
              " 'R',\n",
              " 'S',\n",
              " 'T',\n",
              " 'U',\n",
              " 'V',\n",
              " 'W',\n",
              " 'X',\n",
              " 'Y',\n",
              " 'Z',\n",
              " '`']"
            ]
          },
          "metadata": {
            "tags": []
          },
          "execution_count": 89
        }
      ]
    },
    {
      "cell_type": "code",
      "metadata": {
        "trusted": true,
        "id": "1Eqs72DKX5KI",
        "outputId": "8e63f1a6-c841-4527-d480-00710462e8fe"
      },
      "source": [
        "len(characters)"
      ],
      "execution_count": null,
      "outputs": [
        {
          "output_type": "execute_result",
          "data": {
            "text/plain": [
              "30"
            ]
          },
          "metadata": {
            "tags": []
          },
          "execution_count": 90
        }
      ]
    },
    {
      "cell_type": "markdown",
      "metadata": {
        "id": "79JQSBVBX5KJ"
      },
      "source": [
        "# Creating dictionaries"
      ]
    },
    {
      "cell_type": "code",
      "metadata": {
        "trusted": true,
        "id": "h33R-Me5X5KJ"
      },
      "source": [
        "# 2 Dictionaries  :   Turn all ur characters to num and vice versa\n",
        "char_to_label = {char:label for label,char in enumerate(characters)}\n",
        "label_to_char = {label:char for label,char in enumerate(characters)}"
      ],
      "execution_count": null,
      "outputs": []
    },
    {
      "cell_type": "code",
      "metadata": {
        "trusted": true,
        "id": "jYNi0oJ5X5KJ",
        "outputId": "f49cccc0-67b0-4915-9fc4-29aaae236d65"
      },
      "source": [
        "char_to_label"
      ],
      "execution_count": null,
      "outputs": [
        {
          "output_type": "execute_result",
          "data": {
            "text/plain": [
              "{' ': 0,\n",
              " \"'\": 1,\n",
              " '-': 2,\n",
              " 'A': 3,\n",
              " 'B': 4,\n",
              " 'C': 5,\n",
              " 'D': 6,\n",
              " 'E': 7,\n",
              " 'F': 8,\n",
              " 'G': 9,\n",
              " 'H': 10,\n",
              " 'I': 11,\n",
              " 'J': 12,\n",
              " 'K': 13,\n",
              " 'L': 14,\n",
              " 'M': 15,\n",
              " 'N': 16,\n",
              " 'O': 17,\n",
              " 'P': 18,\n",
              " 'Q': 19,\n",
              " 'R': 20,\n",
              " 'S': 21,\n",
              " 'T': 22,\n",
              " 'U': 23,\n",
              " 'V': 24,\n",
              " 'W': 25,\n",
              " 'X': 26,\n",
              " 'Y': 27,\n",
              " 'Z': 28,\n",
              " '`': 29}"
            ]
          },
          "metadata": {
            "tags": []
          },
          "execution_count": 91
        }
      ]
    },
    {
      "cell_type": "code",
      "metadata": {
        "trusted": true,
        "id": "IuzKAwNMX5KK",
        "outputId": "9fa865d6-9640-4980-85a1-dc077b26df30"
      },
      "source": [
        "label_to_char"
      ],
      "execution_count": null,
      "outputs": [
        {
          "output_type": "execute_result",
          "data": {
            "text/plain": [
              "{0: ' ',\n",
              " 1: \"'\",\n",
              " 2: '-',\n",
              " 3: 'A',\n",
              " 4: 'B',\n",
              " 5: 'C',\n",
              " 6: 'D',\n",
              " 7: 'E',\n",
              " 8: 'F',\n",
              " 9: 'G',\n",
              " 10: 'H',\n",
              " 11: 'I',\n",
              " 12: 'J',\n",
              " 13: 'K',\n",
              " 14: 'L',\n",
              " 15: 'M',\n",
              " 16: 'N',\n",
              " 17: 'O',\n",
              " 18: 'P',\n",
              " 19: 'Q',\n",
              " 20: 'R',\n",
              " 21: 'S',\n",
              " 22: 'T',\n",
              " 23: 'U',\n",
              " 24: 'V',\n",
              " 25: 'W',\n",
              " 26: 'X',\n",
              " 27: 'Y',\n",
              " 28: 'Z',\n",
              " 29: '`'}"
            ]
          },
          "metadata": {
            "tags": []
          },
          "execution_count": 92
        }
      ]
    },
    {
      "cell_type": "markdown",
      "metadata": {
        "id": "QCX8o5lwX5KK"
      },
      "source": [
        "# Define path of images"
      ]
    },
    {
      "cell_type": "code",
      "metadata": {
        "trusted": true,
        "id": "EYysGctqX5KK"
      },
      "source": [
        "path_train='../input/handwriting-recognition/train_v2/train'\n",
        "path_validation='../input/handwriting-recognition/validation_v2/validation'"
      ],
      "execution_count": null,
      "outputs": []
    },
    {
      "cell_type": "code",
      "metadata": {
        "trusted": true,
        "id": "wqTbYc5HX5KL",
        "outputId": "6146786a-e5f3-4c7e-a248-2bb9d4b339d4"
      },
      "source": [
        "path_train + '/' + train['FILENAME'][0]"
      ],
      "execution_count": null,
      "outputs": [
        {
          "output_type": "execute_result",
          "data": {
            "text/plain": [
              "'../input/handwriting-recognition/train_v2/train/TRAIN_00001.jpg'"
            ]
          },
          "metadata": {
            "tags": []
          },
          "execution_count": 57
        }
      ]
    },
    {
      "cell_type": "markdown",
      "metadata": {
        "id": "JHe1s0vEX5KL"
      },
      "source": [
        "## images sample"
      ]
    },
    {
      "cell_type": "code",
      "metadata": {
        "trusted": true,
        "id": "DME4q8uSX5KM",
        "outputId": "6024db02-6790-4d9f-a162-56d46cccc55e"
      },
      "source": [
        "show_img = cv2.imread(Path(path_train + '/' + train['FILENAME'][0]))\n",
        "plt.imshow(show_img)"
      ],
      "execution_count": null,
      "outputs": [
        {
          "output_type": "execute_result",
          "data": {
            "text/plain": [
              "<matplotlib.image.AxesImage at 0x7fd9457e9bd0>"
            ]
          },
          "metadata": {
            "tags": []
          },
          "execution_count": 61
        },
        {
          "output_type": "display_data",
          "data": {
            "text/plain": [
              "<Figure size 432x288 with 1 Axes>"
            ],
            "image/png": "[encoded data removed]"
          },
          "metadata": {
            "tags": [],
            "needs_background": "light"
          }
        }
      ]
    },
    {
      "cell_type": "code",
      "metadata": {
        "trusted": true,
        "id": "I-qQ-cjtX5KM",
        "outputId": "126c4170-6782-487d-b3e7-30edd5e62851"
      },
      "source": [
        "show_img = cv2.imread(Path(path_train + '/' + train['FILENAME'][1]))\n",
        "plt.imshow(show_img)"
      ],
      "execution_count": null,
      "outputs": [
        {
          "output_type": "execute_result",
          "data": {
            "text/plain": [
              "<matplotlib.image.AxesImage at 0x7fd94793ff10>"
            ]
          },
          "metadata": {
            "tags": []
          },
          "execution_count": 78
        },
        {
          "output_type": "display_data",
          "data": {
            "text/plain": [
              "<Figure size 432x288 with 1 Axes>"
            ],
            "image/png": "[encoded data removed]"
          },
          "metadata": {
            "tags": [],
            "needs_background": "light"
          }
        }
      ]
    },
    {
      "cell_type": "code",
      "metadata": {
        "trusted": true,
        "id": "iDc7aPTdX5KM",
        "outputId": "70886fc5-3a89-429e-9fac-ea9bcd09fb90"
      },
      "source": [
        "show_img=cv2.cvtColor(show_img, cv2.COLOR_BGR2GRAY)\n",
        "plt.imshow(show_img)"
      ],
      "execution_count": null,
      "outputs": [
        {
          "output_type": "execute_result",
          "data": {
            "text/plain": [
              "<matplotlib.image.AxesImage at 0x7fd9442b8e50>"
            ]
          },
          "metadata": {
            "tags": []
          },
          "execution_count": 79
        },
        {
          "output_type": "display_data",
          "data": {
            "text/plain": [
              "<Figure size 432x288 with 1 Axes>"
            ],
            "image/png": "[encoded data removed]"
          },
          "metadata": {
            "tags": [],
            "needs_background": "light"
          }
        }
      ]
    },
    {
      "cell_type": "code",
      "metadata": {
        "trusted": true,
        "id": "d7mZ5_6DX5KN",
        "outputId": "47e0729a-00aa-4516-c2cc-ea735045ba4a"
      },
      "source": [
        "show_img.shape"
      ],
      "execution_count": null,
      "outputs": [
        {
          "output_type": "execute_result",
          "data": {
            "text/plain": [
              "(62, 284)"
            ]
          },
          "metadata": {
            "tags": []
          },
          "execution_count": 80
        }
      ]
    },
    {
      "cell_type": "code",
      "metadata": {
        "trusted": true,
        "id": "Z2EW_0D2X5KN",
        "outputId": "fc95e908-8e45-4957-e68b-103483aa98da"
      },
      "source": [
        "show_img=cv2.resize(show_img,(256,64))\n",
        "print(show_img.shape)"
      ],
      "execution_count": null,
      "outputs": [
        {
          "output_type": "stream",
          "text": [
            "(64, 256)\n"
          ],
          "name": "stdout"
        }
      ]
    },
    {
      "cell_type": "code",
      "metadata": {
        "trusted": true,
        "id": "eXEvleaOX5KO",
        "outputId": "eaa45d3b-5ca8-4306-e039-4da284be7aec"
      },
      "source": [
        "show_img"
      ],
      "execution_count": null,
      "outputs": [
        {
          "output_type": "execute_result",
          "data": {
            "text/plain": [
              "array([[255, 255, 255, ..., 255, 255, 255],\n",
              "       [255, 255, 255, ..., 255, 255, 255],\n",
              "       [255, 255, 255, ..., 255, 255, 255],\n",
              "       ...,\n",
              "       [255, 255, 255, ..., 255, 255, 255],\n",
              "       [255, 255, 255, ..., 255, 255, 255],\n",
              "       [255, 255, 255, ..., 255, 255, 255]], dtype=uint8)"
            ]
          },
          "metadata": {
            "tags": []
          },
          "execution_count": 82
        }
      ]
    },
    {
      "cell_type": "code",
      "metadata": {
        "trusted": true,
        "id": "7XctQH08X5KO",
        "outputId": "5f06267a-8824-458c-9a7d-820879332bee"
      },
      "source": [
        "show_img=(show_img/255).astype(np.float32)\n",
        "show_img"
      ],
      "execution_count": null,
      "outputs": [
        {
          "output_type": "execute_result",
          "data": {
            "text/plain": [
              "array([[1., 1., 1., ..., 1., 1., 1.],\n",
              "       [1., 1., 1., ..., 1., 1., 1.],\n",
              "       [1., 1., 1., ..., 1., 1., 1.],\n",
              "       ...,\n",
              "       [1., 1., 1., ..., 1., 1., 1.],\n",
              "       [1., 1., 1., ..., 1., 1., 1.],\n",
              "       [1., 1., 1., ..., 1., 1., 1.]], dtype=float32)"
            ]
          },
          "metadata": {
            "tags": []
          },
          "execution_count": 83
        }
      ]
    },
    {
      "cell_type": "code",
      "metadata": {
        "trusted": true,
        "id": "LnhPBXXcX5KP",
        "outputId": "054c7e6a-a086-4502-c222-448112bdb0d3"
      },
      "source": [
        "show_img = show_img.T\n",
        "plt.imshow(show_img)"
      ],
      "execution_count": null,
      "outputs": [
        {
          "output_type": "execute_result",
          "data": {
            "text/plain": [
              "<matplotlib.image.AxesImage at 0x7fd950934850>"
            ]
          },
          "metadata": {
            "tags": []
          },
          "execution_count": 84
        },
        {
          "output_type": "display_data",
          "data": {
            "text/plain": [
              "<Figure size 432x288 with 1 Axes>"
            ],
            "image/png": "[encoded data removed]"
          },
          "metadata": {
            "tags": [],
            "needs_background": "light"
          }
        }
      ]
    },
    {
      "cell_type": "code",
      "metadata": {
        "trusted": true,
        "id": "9N-ny_evX5KP",
        "outputId": "74e0cfa9-981a-47c0-b64d-1eea3ba97f05"
      },
      "source": [
        "show_img=np.expand_dims(show_img,axis=-1)\n",
        "show_img.shape"
      ],
      "execution_count": null,
      "outputs": [
        {
          "output_type": "execute_result",
          "data": {
            "text/plain": [
              "(256, 64, 1)"
            ]
          },
          "metadata": {
            "tags": []
          },
          "execution_count": 85
        }
      ]
    },
    {
      "cell_type": "markdown",
      "metadata": {
        "id": "w37I7SGRX5KP"
      },
      "source": [
        "# Data generator"
      ]
    },
    {
      "cell_type": "code",
      "metadata": {
        "trusted": true,
        "id": "LNeF_39pX5KQ"
      },
      "source": [
        "# Data Generator\n",
        "class DataGenerator(Sequence):\n",
        "    def __init__(self,dataframe,path,char_map,batch_size=128,img_size=(256,64),\n",
        "                 downsample_factor=4,max_length=22,shuffle=True):\n",
        "        self.dataframe=dataframe\n",
        "        self.path=path\n",
        "        self.char_map=char_map\n",
        "        self.batch_size=batch_size\n",
        "        self.width=img_size[0]\n",
        "        self.height=img_size[1]\n",
        "        self.downsample_factor=downsample_factor\n",
        "        self.max_length=max_length\n",
        "        self.shuffle=shuffle\n",
        "        self.indices = np.arange(len(dataframe))\n",
        "        self.on_epoch_end()\n",
        "        \n",
        "    def __len__(self):\n",
        "        return len(self.dataframe)//self.batch_size\n",
        "    \n",
        "    def __getitem__(self,idx):\n",
        "        curr_batch_idx=self.indices[idx*self.batch_size:(idx+1)*self.batch_size]\n",
        "        batch_images=np.ones((self.batch_size,self.width,self.height,1),dtype=np.float32)\n",
        "        batch_labels=np.ones((self.batch_size,self.max_length),dtype=np.float32)\n",
        "        input_length=np.ones((self.batch_size,1),dtype=np.float32)*(self.width//self.downsample_factor-2)\n",
        "        label_length=np.zeros((self.batch_size,1),dtype=np.int64)\n",
        "        for i,idx in enumerate(curr_batch_idx):\n",
        "            img_path=self.dataframe['FILENAME'].values[idx]\n",
        "            img=cv2.imread(self.path+'/'+img_path)\n",
        "            img=cv2.cvtColor(img, cv2.COLOR_BGR2GRAY)\n",
        "            img=cv2.resize(img,(self.width,self.height))\n",
        "            img=(img/255).astype(np.float32)\n",
        "            img=img.T\n",
        "            img=np.expand_dims(img,axis=-1)\n",
        "            text=self.dataframe['IDENTITY'].values[idx]\n",
        "            text=str(text)\n",
        "            label=[]\n",
        "            for j in text: \n",
        "                if j in self.char_map :\n",
        "                    label.append(self.char_map[j])\n",
        "                else:\n",
        "                    label.append(100)\n",
        "            label.extend([100]*(22-len(label)))\n",
        "            batch_images[i]=img\n",
        "            batch_labels[i]=label\n",
        "            label_length[i]=len(label)\n",
        "        batch_inputs= {\n",
        "                'input_data':batch_images,\n",
        "                'input_label':batch_labels,\n",
        "                'input_length':input_length,\n",
        "                'label_length':label_length\n",
        "                \n",
        "            }\n",
        "        return batch_inputs,np.zeros((self.batch_size),dtype=np.float32)\n",
        "    def on_epoch_end(self):\n",
        "        if self.shuffle == True :\n",
        "            np.random.shuffle(self.indices)\n",
        "        "
      ],
      "execution_count": null,
      "outputs": []
    },
    {
      "cell_type": "markdown",
      "metadata": {
        "id": "E2q4nWemX5KR"
      },
      "source": [
        "## Preprocess all images"
      ]
    },
    {
      "cell_type": "code",
      "metadata": {
        "trusted": true,
        "id": "BFxnxRPDX5KS"
      },
      "source": [
        "train_generator=DataGenerator(train,path_train,char_to_label)\n",
        "validation_generator=DataGenerator(validation,path_validation,char_to_label)"
      ],
      "execution_count": null,
      "outputs": []
    },
    {
      "cell_type": "markdown",
      "metadata": {
        "id": "1vgfI5uYX5KS"
      },
      "source": [
        "Connectionist temporal classification (CTC) is a type of neural network output and associated scoring function, for training recurrent neural networks (RNNs) such as LSTM networks to tackle sequence problems where the timing is variable."
      ]
    },
    {
      "cell_type": "code",
      "metadata": {
        "trusted": true,
        "id": "iXdjBK46X5KT"
      },
      "source": [
        "# Making CTC Function\n",
        "class CTCLayer(L.Layer):\n",
        "    def __init__(self, name=None):\n",
        "        super().__init__(name=name)\n",
        "        self.loss_fn = keras.backend.ctc_batch_cost\n",
        "\n",
        "    def call(self, y_true, y_pred, input_length, label_length):\n",
        "        # Compute the training-time loss value and add it\n",
        "        # to the layer using `self.add_loss()`.\n",
        "        loss = self.loss_fn(y_true, y_pred, input_length, label_length)\n",
        "        self.add_loss(loss)\n",
        "        \n",
        "        # On test time, just return the computed loss\n",
        "        return loss"
      ],
      "execution_count": null,
      "outputs": []
    },
    {
      "cell_type": "markdown",
      "metadata": {
        "id": "vIVf_D0NX5KU"
      },
      "source": [
        "# Making model"
      ]
    },
    {
      "cell_type": "code",
      "metadata": {
        "trusted": true,
        "id": "LVeSMvNtX5KU"
      },
      "source": [
        "def make_model():\n",
        "    inp=L.Input(shape=(256,64,1),dtype=np.float32,name='input_data')\n",
        "    labels=L.Input(shape=[22],dtype=np.float32,name='input_label')\n",
        "    input_length=L.Input(shape=[1],dtype=np.int64,name='input_length')\n",
        "    label_length=L.Input(shape=[1],dtype=np.int64,name='label_length')\n",
        "    x=L.Conv2D(64,(3,3),activation='relu',padding='same',kernel_initializer='he_normal')(inp)\n",
        "    x=L.MaxPooling2D(pool_size=(2,2))(x)\n",
        "    x=L.Dropout(0.3)(x)\n",
        "    x=L.Conv2D(128,(3,3),activation='relu',padding='same',kernel_initializer='he_normal')(x)\n",
        "    x=L.MaxPooling2D(pool_size=(2,2))(x)\n",
        "    x=L.Dropout(0.3)(x)\n",
        "    new_shape=((256//4),(64//4)*128)\n",
        "    x=L.Reshape(new_shape)(x)\n",
        "    x=L.Dense(64,activation='relu')(x)\n",
        "    x=L.Dropout(0.2)(x)\n",
        "    x=L.Bidirectional(L.LSTM(128,return_sequences=True,dropout=0.2))(x)\n",
        "    x=L.Bidirectional(L.LSTM(64,return_sequences=True,dropout=0.25))(x)\n",
        "    x=L.Dense(len(characters)+1,activation='softmax',kernel_initializer='he_normal',name='Dense_output')(x)\n",
        "    output=CTCLayer(name='outputs')(labels,x,input_length,label_length)\n",
        "    model=M.Model([inp,labels,input_length,label_length],output)\n",
        "    # Optimizer\n",
        "    sgd = keras.optimizers.SGD(learning_rate=0.002,\n",
        "                               decay=1e-6,\n",
        "                               momentum=0.9,\n",
        "                               nesterov=True,\n",
        "                               clipnorm=5)\n",
        "    model.compile(optimizer=sgd)\n",
        "    return model"
      ],
      "execution_count": null,
      "outputs": []
    },
    {
      "cell_type": "markdown",
      "metadata": {
        "id": "qDkoBXfQX5KV"
      },
      "source": [
        "# model summary"
      ]
    },
    {
      "cell_type": "code",
      "metadata": {
        "trusted": true,
        "id": "YCfVW78nOrDF",
        "outputId": "7d76315f-bcd9-48be-d006-e2906dcdeee1"
      },
      "source": [
        "model=make_model()\n",
        "model.summary()"
      ],
      "execution_count": null,
      "outputs": [
        {
          "output_type": "stream",
          "text": [
            "Model: \"model\"\n",
            "__________________________________________________________________________________________________\n",
            "Layer (type)                    Output Shape         Param #     Connected to                     \n",
            "==================================================================================================\n",
            "input_data (InputLayer)         [(None, 256, 64, 1)] 0                                            \n",
            "__________________________________________________________________________________________________\n",
            "conv2d (Conv2D)                 (None, 256, 64, 64)  640         input_data[0][0]                 \n",
            "__________________________________________________________________________________________________\n",
            "max_pooling2d (MaxPooling2D)    (None, 128, 32, 64)  0           conv2d[0][0]                     \n",
            "__________________________________________________________________________________________________\n",
            "dropout (Dropout)               (None, 128, 32, 64)  0           max_pooling2d[0][0]              \n",
            "__________________________________________________________________________________________________\n",
            "conv2d_1 (Conv2D)               (None, 128, 32, 128) 73856       dropout[0][0]                    \n",
            "__________________________________________________________________________________________________\n",
            "max_pooling2d_1 (MaxPooling2D)  (None, 64, 16, 128)  0           conv2d_1[0][0]                   \n",
            "__________________________________________________________________________________________________\n",
            "dropout_1 (Dropout)             (None, 64, 16, 128)  0           max_pooling2d_1[0][0]            \n",
            "__________________________________________________________________________________________________\n",
            "reshape (Reshape)               (None, 64, 2048)     0           dropout_1[0][0]                  \n",
            "__________________________________________________________________________________________________\n",
            "dense (Dense)                   (None, 64, 64)       131136      reshape[0][0]                    \n",
            "__________________________________________________________________________________________________\n",
            "dropout_2 (Dropout)             (None, 64, 64)       0           dense[0][0]                      \n",
            "__________________________________________________________________________________________________\n",
            "bidirectional (Bidirectional)   (None, 64, 256)      197632      dropout_2[0][0]                  \n",
            "__________________________________________________________________________________________________\n",
            "bidirectional_1 (Bidirectional) (None, 64, 128)      164352      bidirectional[0][0]              \n",
            "__________________________________________________________________________________________________\n",
            "input_label (InputLayer)        [(None, 22)]         0                                            \n",
            "__________________________________________________________________________________________________\n",
            "Dense_output (Dense)            (None, 64, 31)       3999        bidirectional_1[0][0]            \n",
            "__________________________________________________________________________________________________\n",
            "input_length (InputLayer)       [(None, 1)]          0                                            \n",
            "__________________________________________________________________________________________________\n",
            "label_length (InputLayer)       [(None, 1)]          0                                            \n",
            "__________________________________________________________________________________________________\n",
            "outputs (CTCLayer)              (None, 1)            0           input_label[0][0]                \n",
            "                                                                 Dense_output[0][0]               \n",
            "                                                                 input_length[0][0]               \n",
            "                                                                 label_length[0][0]               \n",
            "==================================================================================================\n",
            "Total params: 571,615\n",
            "Trainable params: 571,615\n",
            "Non-trainable params: 0\n",
            "__________________________________________________________________________________________________\n"
          ],
          "name": "stdout"
        }
      ]
    },
    {
      "cell_type": "markdown",
      "metadata": {
        "id": "94EZuY-wX5KW"
      },
      "source": [
        "## Add early stopping"
      ]
    },
    {
      "cell_type": "code",
      "metadata": {
        "trusted": true,
        "id": "nZ7ndWIGOrDG",
        "outputId": "04e5aa71-2338-4b6c-d8ad-e29a1a15ca32"
      },
      "source": [
        "es = keras.callbacks.EarlyStopping(monitor='val_loss',\n",
        "                                   patience=5,\n",
        "                                   restore_best_weights=True)\n",
        "\n",
        "# Train the model\n",
        "if 'prediction_model_ocr.h5' not in os.listdir('./'):\n",
        "    history = model.fit(train_generator,steps_per_epoch=1000,validation_data=validation_generator,\n",
        "                        epochs=5)\n"
      ],
      "execution_count": null,
      "outputs": [
        {
          "output_type": "stream",
          "text": [
            "Epoch 1/5\n",
            "1000/1000 [==============================] - 858s 850ms/step - loss: 23.6168 - val_loss: 19.0940\n",
            "Epoch 2/5\n",
            "1000/1000 [==============================] - 525s 525ms/step - loss: 18.7743 - val_loss: 17.7790\n",
            "Epoch 3/5\n",
            "1000/1000 [==============================] - 415s 415ms/step - loss: 17.1417 - val_loss: 14.3807\n",
            "Epoch 4/5\n",
            "1000/1000 [==============================] - 371s 371ms/step - loss: 13.1428 - val_loss: 8.5301\n",
            "Epoch 5/5\n",
            "1000/1000 [==============================] - 340s 340ms/step - loss: 8.6503 - val_loss: 5.3629\n"
          ],
          "name": "stdout"
        }
      ]
    },
    {
      "cell_type": "markdown",
      "metadata": {
        "id": "wLIvN3IUX5KW"
      },
      "source": [
        "## Train model"
      ]
    },
    {
      "cell_type": "code",
      "metadata": {
        "trusted": true,
        "id": "nOBDJVO7OrDH",
        "outputId": "90998d5c-f7b1-41a4-ffc1-ce1ac445fa63"
      },
      "source": [
        "prediction_model = keras.models.Model(model.get_layer(name='input_data').input,\n",
        "                                        model.get_layer(name='Dense_output').output)\n",
        "prediction_model.summary()"
      ],
      "execution_count": null,
      "outputs": [
        {
          "output_type": "stream",
          "text": [
            "Model: \"model_1\"\n",
            "_________________________________________________________________\n",
            "Layer (type)                 Output Shape              Param #   \n",
            "=================================================================\n",
            "input_data (InputLayer)      [(None, 256, 64, 1)]      0         \n",
            "_________________________________________________________________\n",
            "conv2d (Conv2D)              (None, 256, 64, 64)       640       \n",
            "_________________________________________________________________\n",
            "max_pooling2d (MaxPooling2D) (None, 128, 32, 64)       0         \n",
            "_________________________________________________________________\n",
            "dropout (Dropout)            (None, 128, 32, 64)       0         \n",
            "_________________________________________________________________\n",
            "conv2d_1 (Conv2D)            (None, 128, 32, 128)      73856     \n",
            "_________________________________________________________________\n",
            "max_pooling2d_1 (MaxPooling2 (None, 64, 16, 128)       0         \n",
            "_________________________________________________________________\n",
            "dropout_1 (Dropout)          (None, 64, 16, 128)       0         \n",
            "_________________________________________________________________\n",
            "reshape (Reshape)            (None, 64, 2048)          0         \n",
            "_________________________________________________________________\n",
            "dense (Dense)                (None, 64, 64)            131136    \n",
            "_________________________________________________________________\n",
            "dropout_2 (Dropout)          (None, 64, 64)            0         \n",
            "_________________________________________________________________\n",
            "bidirectional (Bidirectional (None, 64, 256)           197632    \n",
            "_________________________________________________________________\n",
            "bidirectional_1 (Bidirection (None, 64, 128)           164352    \n",
            "_________________________________________________________________\n",
            "Dense_output (Dense)         (None, 64, 31)            3999      \n",
            "=================================================================\n",
            "Total params: 571,615\n",
            "Trainable params: 571,615\n",
            "Non-trainable params: 0\n",
            "_________________________________________________________________\n"
          ],
          "name": "stdout"
        }
      ]
    },
    {
      "cell_type": "markdown",
      "metadata": {
        "id": "_YOvZAvKX5KX"
      },
      "source": [
        "# Save weights"
      ]
    },
    {
      "cell_type": "code",
      "metadata": {
        "trusted": true,
        "id": "t7vcWe1TX5KX"
      },
      "source": [
        "if 'prediction_model_ocr.h5' not in os.listdir('./'):\n",
        "    prediction_model.save('prediction_model_ocr.h5')\n",
        "    prediction_model=M.load_model('prediction_model_ocr.h5')"
      ],
      "execution_count": null,
      "outputs": []
    },
    {
      "cell_type": "markdown",
      "metadata": {
        "id": "CqrqMx3FX5KY"
      },
      "source": [
        "## decode the output of the network"
      ]
    },
    {
      "cell_type": "code",
      "metadata": {
        "trusted": true,
        "id": "msisTg6CX5KY"
      },
      "source": [
        "# A utility to decode the output of the network\n",
        "def decode_batch_predictions(pred):\n",
        "    pred = pred[:, :-2]\n",
        "    input_len = np.ones(pred.shape[0])*pred.shape[1]\n",
        "    \n",
        "    # Use greedy search. For complex tasks, you can use beam search\n",
        "    results = keras.backend.ctc_decode(pred, \n",
        "                                        input_length=input_len,\n",
        "                                        greedy=True)[0][0]\n",
        "    \n",
        "    # Iterate over the results and get back the text\n",
        "    output_text = []\n",
        "    for res in results.numpy():\n",
        "        outstr = ''\n",
        "        for c in res:\n",
        "            if c < len(characters) and c >=0:\n",
        "                outstr += label_to_char[c]\n",
        "        output_text.append(outstr)\n",
        "    \n",
        "    # return final text results\n",
        "    return output_text"
      ],
      "execution_count": null,
      "outputs": []
    },
    {
      "cell_type": "markdown",
      "metadata": {
        "id": "q4UkBXQCX5KZ"
      },
      "source": [
        "## Predicting on validation dataset"
      ]
    },
    {
      "cell_type": "code",
      "metadata": {
        "trusted": true,
        "id": "PcNLu_afOrDK",
        "outputId": "1b14b1f1-e6b3-44f2-d76a-40d8deddb307"
      },
      "source": [
        "for p, (inp_value, _) in enumerate(validation_generator):\n",
        "    bs = inp_value['input_data'].shape[0]\n",
        "    X_data = inp_value['input_data']\n",
        "    labels = inp_value['input_label']\n",
        "    plt.imshow(X_data[0])\n",
        "    preds = prediction_model.predict(X_data)\n",
        "    pred_texts = decode_batch_predictions(preds)\n",
        "    \n",
        "    \n",
        "    orig_texts = []\n",
        "    for label in labels:\n",
        "        text = ''.join([label_to_char[int(x)] for x in label])\n",
        "        orig_texts.append(text)\n",
        "        \n",
        "    for i in range(bs):\n",
        "        print(f'Ground truth: {orig_texts[i]} \\t Predicted: {pred_texts[i]}')\n",
        "    break"
      ],
      "execution_count": null,
      "outputs": [
        {
          "output_type": "stream",
          "text": [
            "Ground truth: MICHELON \t Predicted: NICHELON\n",
            "Ground truth: CHAPUIS-REGNIER \t Predicted: CHAPUIS REGNIEA\n",
            "Ground truth: THIBAUT \t Predicted: THCOAUY\n",
            "Ground truth: FABIEN \t Predicted: FAOIEN\n",
            "Ground truth: LEGAL \t Predicted: LEGRAL\n",
            "Ground truth: VINCENT \t Predicted: VINEENT\n",
            "Ground truth: TIMOTHEE \t Predicted: TIROTHEE\n",
            "Ground truth: COUTURE \t Predicted: LOUTURE\n",
            "Ground truth: COEFFIER \t Predicted: COCTEIER\n",
            "Ground truth: ALIX \t Predicted: ALIA\n",
            "Ground truth: AMI SAADA \t Predicted: MN  TAAOA\n",
            "Ground truth: GEROOVILLE \t Predicted: GEROOUILLE\n",
            "Ground truth: ZOE \t Predicted: JOE\n",
            "Ground truth: CARDON \t Predicted: CARDON\n",
            "Ground truth: CECILE \t Predicted: CECILE\n",
            "Ground truth: THOMAS \t Predicted: THOMAS\n",
            "Ground truth: MARGOT \t Predicted: MARGOT\n",
            "Ground truth: ETIENNE \t Predicted: EAIEANE\n",
            "Ground truth: DAMIEN \t Predicted: BAMIEN\n",
            "Ground truth: BRIGANT \t Predicted: BAIGANT\n",
            "Ground truth: LILOU \t Predicted: LILOU\n",
            "Ground truth: CILOU \t Predicted: LILOU\n",
            "Ground truth: HUGO \t Predicted: NUCA\n",
            "Ground truth: SALOTTI \t Predicted: SALOTTY\n",
            "Ground truth: CHARLOTTE \t Predicted: CHARLOTTE\n",
            "Ground truth: SEGURA \t Predicted: SECURA\n",
            "Ground truth: FLORENTIN \t Predicted: FLORENTIN\n",
            "Ground truth: BOUCABEILLE \t Predicted: BOUCABEILLE\n",
            "Ground truth: CAMILLE \t Predicted: CAMILLE\n",
            "Ground truth: LEMARO \t Predicted: LEMRRAU\n",
            "Ground truth: CMARPENTIER \t Predicted: CHAARENTIER\n",
            "Ground truth: PARMENTIER \t Predicted: PARNENTICR\n",
            "Ground truth: GRENIER \t Predicted: SAENIER\n",
            "Ground truth: MERIQUE \t Predicted: MERIOUE\n",
            "Ground truth: JASINSKI \t Predicted: SASINSAY\n",
            "Ground truth: EL OUIAZZANI \t Predicted: E OUEACLANE\n",
            "Ground truth: MIGNEROT \t Predicted: NIGNEROT\n",
            "Ground truth: GOUGUETOT \t Predicted: SOUGUEIOT\n",
            "Ground truth: SIMON \t Predicted: SIHON\n",
            "Ground truth: ANGEL \t Predicted: ANGEL\n",
            "Ground truth: ELEONORE \t Predicted: ELEONORE\n",
            "Ground truth: HASSAN \t Predicted: ASSIN\n",
            "Ground truth: ALICE \t Predicted: ALICE\n",
            "Ground truth: ELEONORE \t Predicted: CLEONDRE\n",
            "Ground truth: MATHIEU \t Predicted: MAINIEN\n",
            "Ground truth: RINGEARD \t Predicted: RINGCARD\n",
            "Ground truth: THEO \t Predicted: THES\n",
            "Ground truth: SACHA \t Predicted: SALHA\n",
            "Ground truth: BRONGNIART \t Predicted: SAOMENTART\n",
            "Ground truth: ABBAOUI \t Predicted: ROBAOUT\n",
            "Ground truth: LOLA \t Predicted: LOLA\n",
            "Ground truth: ELOISE \t Predicted: ELOISE\n",
            "Ground truth: LAHYAN \t Predicted: LAAUIN\n",
            "Ground truth: STECY \t Predicted: SIEY\n",
            "Ground truth: LACOIMIE \t Predicted: COCOLAIE\n",
            "Ground truth: CAZIER \t Predicted: CAIIER\n",
            "Ground truth: FORTANER \t Predicted: TORTNNER\n",
            "Ground truth: TITOUAN \t Predicted: TITOUAN\n",
            "Ground truth: SHANNA \t Predicted: SHANNA\n",
            "Ground truth: BERNAERT \t Predicted: MERNAERT\n",
            "Ground truth: LAURA \t Predicted: LAURA\n",
            "Ground truth: HUAULT \t Predicted: HUAULT\n",
            "Ground truth: DUPAS \t Predicted: DUTAS\n",
            "Ground truth: LUCIE \t Predicted: LUCIE\n",
            "Ground truth: CLEMENTINE \t Predicted: CLEMENTINE\n",
            "Ground truth: JEAN \t Predicted: SEAN\n",
            "Ground truth: HEYER \t Predicted: MEVER\n",
            "Ground truth: ALBERIC \t Predicted: ALOEREE\n",
            "Ground truth: MAHAYANA \t Predicted: LIAAUAUN\n",
            "Ground truth: BASTIEN \t Predicted: BASTIEN\n",
            "Ground truth: RUDY \t Predicted: AUOY\n",
            "Ground truth: NONNENMACHER \t Predicted: MONUENAACHER\n",
            "Ground truth: PORQUET \t Predicted: POROUET\n",
            "Ground truth: TOM \t Predicted: TON\n",
            "Ground truth: JULIE \t Predicted: JULIE\n",
            "Ground truth: PANNETIER \t Predicted: PANNETIER\n",
            "Ground truth: EL ATSSATI \t Predicted: CLAASSATT\n",
            "Ground truth: ANTOINE \t Predicted: ANTOINE\n",
            "Ground truth: PIDOU \t Predicted: SISOU\n",
            "Ground truth: BRIAC \t Predicted: BAIAE\n",
            "Ground truth: DESDOITS \t Predicted: DESOOITS\n",
            "Ground truth: BENDONCKER \t Predicted: BENOOUCRER\n",
            "Ground truth: HANNOUN \t Predicted: MANNOUN\n",
            "Ground truth: CHANSAC - NICOFAI \t Predicted: LHAUUAC NILOEAE\n",
            "Ground truth: PICARRE \t Predicted: TIEARE\n",
            "Ground truth: ROUYER \t Predicted: ROUUEE\n",
            "Ground truth: CHARTON \t Predicted: LHARTON\n",
            "Ground truth: NOEMIE \t Predicted: NOEHIE\n",
            "Ground truth: MYLAN \t Predicted: NLAN\n",
            "Ground truth: JOAQUIM \t Predicted: JOADUIN\n",
            "Ground truth: DUVERLY \t Predicted: GUVERLU\n",
            "Ground truth: SWAN-LI \t Predicted: SUANLLY\n",
            "Ground truth: FLORENTIN \t Predicted: FLORENTIN\n",
            "Ground truth: SAMIRA \t Predicted: SAMIAA\n",
            "Ground truth: NAYLA \t Predicted: MAYLA\n",
            "Ground truth: MAURINE \t Predicted: MAURINE\n",
            "Ground truth: DUTOT \t Predicted: DUTOT\n",
            "Ground truth: MARION \t Predicted: MARION\n",
            "Ground truth: ROMAIN \t Predicted: ROAAIN\n",
            "Ground truth: BERTRAND \t Predicted: SERIRAND\n",
            "Ground truth: DANET \t Predicted: BANET\n",
            "Ground truth: LEGEAY \t Predicted: LELEAY\n",
            "Ground truth: ANTOINE \t Predicted: MATOINE\n",
            "Ground truth: BLIN \t Predicted: SLIN\n",
            "Ground truth: MORGANE \t Predicted: MORGANE\n",
            "Ground truth: MAXENCE \t Predicted: MAXENCE\n",
            "Ground truth: LYNA \t Predicted: LYNA\n",
            "Ground truth: VILLARET \t Predicted: VILLARET\n",
            "Ground truth: MOHAMMED-ALI \t Predicted: MOROANCULOII\n",
            "Ground truth: ANDRE \t Predicted: ADRE\n",
            "Ground truth: CHLOE \t Predicted: CHLOE\n",
            "Ground truth: PARZYSZ \t Predicted: PARSUSE\n",
            "Ground truth: CREUZE \t Predicted: CREUIE\n",
            "Ground truth: AUDREY \t Predicted: AUDREY\n",
            "Ground truth: BILLET \t Predicted: PILLET\n",
            "Ground truth: JEAN-BAPTISTE \t Predicted: SEAN BAPTISTE\n",
            "Ground truth: AENOR \t Predicted: AENOR\n",
            "Ground truth: PRIOUX \t Predicted: PRIOUN\n",
            "Ground truth: LE FRAPPER \t Predicted: MOEY\n",
            "Ground truth: FLORIANE \t Predicted: FLORIANE\n",
            "Ground truth: NORA \t Predicted: MORA\n",
            "Ground truth: PIERRE \t Predicted: PIERRE\n",
            "Ground truth: KONRATH \t Predicted: AONARIN\n",
            "Ground truth: VASSEUR \t Predicted: VASSEUR\n",
            "Ground truth: JACQUET \t Predicted: SASNA\n",
            "Ground truth: BOSIO \t Predicted: ROSEO\n",
            "Ground truth: ETIENNE \t Predicted: ETIENNE\n",
            "Ground truth: DEBAISIEUX \t Predicted: BEGAISIEUR\n"
          ],
          "name": "stdout"
        },
        {
          "output_type": "display_data",
          "data": {
            "text/plain": [
              "<Figure size 432x288 with 1 Axes>"
            ],
            "image/png": "[encoded data removed]"
          },
          "metadata": {
            "tags": [],
            "needs_background": "light"
          }
        }
      ]
    },
    {
      "cell_type": "code",
      "metadata": {
        "trusted": true,
        "id": "H-fVtb_xOrDK",
        "outputId": "4c48a236-0d5c-4775-92ed-7e1bcd1fb213"
      },
      "source": [
        "batch_images=np.ones((128,256,64,1),dtype=np.float32)\n",
        "img=cv2.imread('../input/handwriting-recognition/test_v2/test/TEST_0004.jpg')\n",
        "img=cv2.cvtColor(img, cv2.COLOR_BGR2GRAY)\n",
        "img=cv2.resize(img,(256,64))\n",
        "img=(img/255).astype(np.float32)\n",
        "img=img.T\n",
        "img=np.expand_dims(img,axis=-1)\n",
        "batch_images[0]=img\n",
        "x=prediction_model.predict(batch_images)\n",
        "pred_texts = decode_batch_predictions(x)\n",
        "pred_texts = pred_texts[0]\n",
        "im=cv2.imread('../input/handwriting-recognition/test_v2/test/TEST_0004.jpg')\n",
        "plt.imshow(im)\n",
        "print('Predicted Text:',pred_texts)"
      ],
      "execution_count": null,
      "outputs": [
        {
          "output_type": "stream",
          "text": [
            "Predicted Text: JULES\n"
          ],
          "name": "stdout"
        },
        {
          "output_type": "display_data",
          "data": {
            "text/plain": [
              "<Figure size 432x288 with 1 Axes>"
            ],
            "image/png": "[encoded data removed]"
          },
          "metadata": {
            "tags": [],
            "needs_background": "light"
          }
        }
      ]
    }
  ]
}